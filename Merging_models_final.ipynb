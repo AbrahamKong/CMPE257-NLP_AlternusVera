{
  "nbformat": 4,
  "nbformat_minor": 0,
  "metadata": {
    "colab": {
      "name": "Merging_models_final.ipynb",
      "provenance": [],
      "collapsed_sections": [
        "pMUKSO14po93"
      ],
      "include_colab_link": true
    },
    "kernelspec": {
      "name": "python3",
      "display_name": "Python 3"
    },
    "language_info": {
      "name": "python"
    }
  },
  "cells": [
    {
      "cell_type": "markdown",
      "metadata": {
        "id": "view-in-github",
        "colab_type": "text"
      },
      "source": [
        "<a href=\"https://colab.research.google.com/github/AbrahamKong/CMPE257-NLP_AlternusVera/blob/master/Merging_models_final.ipynb\" target=\"_parent\"><img src=\"https://colab.research.google.com/assets/colab-badge.svg\" alt=\"Open In Colab\"/></a>"
      ]
    },
    {
      "cell_type": "markdown",
      "source": [
        "## **Abraham_Model**"
      ],
      "metadata": {
        "id": "pMUKSO14po93"
      }
    },
    {
      "cell_type": "code",
      "source": [
        "import pandas as pd"
      ],
      "metadata": {
        "id": "oDEay9jttAde"
      },
      "execution_count": null,
      "outputs": []
    },
    {
      "cell_type": "code",
      "source": [
        "from google.colab import drive \n",
        "drive.mount('/content/drive/')"
      ],
      "metadata": {
        "colab": {
          "base_uri": "https://localhost:8080/"
        },
        "id": "jAOzuM0WpDkD",
        "outputId": "441c85be-0ab6-4ebd-8935-c745139f98aa"
      },
      "execution_count": null,
      "outputs": [
        {
          "output_type": "stream",
          "name": "stdout",
          "text": [
            "Mounted at /content/drive/\n"
          ]
        }
      ]
    },
    {
      "cell_type": "code",
      "source": [
        "def set_column_names(url, column_1, column_2, need_column_name, LiarLiar):\n",
        "  dataframe = pd.read_csv(url, delimiter=\"\\t\")\n",
        "  if (need_column_name == True):\n",
        "    if(LiarLiar == True):\n",
        "      dataframe.columns =['id', 'label', 'news', 'subjects', 'speaker', 'title', 'state', 'party-affiliation', 'barely-true', 'false', 'half-true', 'mostly-true', 'pants-fire', 'justification']\n",
        "    else:\n",
        "      dataframe.columns =['unname', 'id', 'label', 'news', 'subjects', 'speaker', 'title', 'state', 'party-affiliation', 'barely-true', 'false', 'half-true', 'mostly-true', 'pants-fire', 'venue','justification']\n",
        "  dataframe = dataframe[[column_1, column_2]]\n",
        "  return dataframe"
      ],
      "metadata": {
        "id": "NJhM17q66_Qx"
      },
      "execution_count": null,
      "outputs": []
    },
    {
      "cell_type": "code",
      "source": [
        "train_data_liarliarplus = set_column_names(\"/content/drive/My Drive/ML-Spring-2022/Data Miners/Assignments/Pooja/Assignment - 12/LiarLiarPlus/train.tsv\", \"news\", \"label\", True, False)\n",
        "test_data_liarliarplus = set_column_names(\"/content/drive/My Drive/ML-Spring-2022/Data Miners/Assignments/Pooja/Assignment - 12/LiarLiarPlus/test.tsv\", \"news\", \"label\", True, False)\n",
        "valid_data_liarliarplus = set_column_names(\"/content/drive/My Drive/ML-Spring-2022/Data Miners/Assignments/Pooja/Assignment - 12/LiarLiarPlus/valid.tsv\", \"news\", \"label\", True, False)"
      ],
      "metadata": {
        "id": "_33t9z1V7Rf6"
      },
      "execution_count": null,
      "outputs": []
    },
    {
      "cell_type": "code",
      "source": [
        "politifact_df = pd.read_csv('/content/politifact_abraham.csv')"
      ],
      "metadata": {
        "id": "VTUviU-91DwO"
      },
      "execution_count": null,
      "outputs": []
    },
    {
      "cell_type": "code",
      "source": [
        "politifact_df.head(10)"
      ],
      "metadata": {
        "id": "eRIIqNqX7UWS",
        "colab": {
          "base_uri": "https://localhost:8080/",
          "height": 598
        },
        "outputId": "abb221b3-74d7-46cf-818d-9a9aa4ec8f26"
      },
      "execution_count": null,
      "outputs": [
        {
          "output_type": "execute_result",
          "data": {
            "text/plain": [
              "   Unnamed: 0                                          Statement  \\\n",
              "0           0  The Biden administration has been \"recklessly ...   \n",
              "1           1  Suggests Amber Heard snorted cocaine while on ...   \n",
              "2           2  The infant formula shortage was purposely crea...   \n",
              "3           3  \"Kari Lake has been appearing at rallies with ...   \n",
              "4           4  “Is ANYONE asking how Ron DeSantis was worth $...   \n",
              "5           5  An adenovirus is a combination of viruses, gas...   \n",
              "6           6                          “CO2 is not a pollutant.”   \n",
              "7           7  Supreme Court Justices Amy Coney Barrett and S...   \n",
              "8           8  Says photo shows \"one of Tesla's lithium suppl...   \n",
              "9           9  Due to U.S. Senate rules, Democrats need \"more...   \n",
              "\n",
              "                                                Link          Date  \\\n",
              "0  https://www.politifact.com/factchecks/2022/may...  May 13, 2022   \n",
              "1  https://www.politifact.com/factchecks/2022/may...  May 12, 2022   \n",
              "2  https://www.politifact.com/factchecks/2022/may...  May 12, 2022   \n",
              "3  https://www.politifact.com/factchecks/2022/may...  May 12, 2022   \n",
              "4  https://www.politifact.com/factchecks/2022/may...  May 12, 2022   \n",
              "5  https://www.politifact.com/factchecks/2022/may...  May 12, 2022   \n",
              "6  https://www.politifact.com/factchecks/2022/may...  May 12, 2022   \n",
              "7  https://www.politifact.com/factchecks/2022/may...  May 12, 2022   \n",
              "8  https://www.politifact.com/factchecks/2022/may...  May 11, 2022   \n",
              "9  https://www.politifact.com/factchecks/2022/may...  May 11, 2022   \n",
              "\n",
              "                                   Source        Label  \n",
              "0                             Tom Tiffany  barely-true  \n",
              "1                          Facebook posts   pants-fire  \n",
              "2                          Facebook posts        false  \n",
              "3                         Aaron Lieberman  barely-true  \n",
              "4                                  Tweets        false  \n",
              "5                          Facebook posts        false  \n",
              "6  Suburban Virginia Republican Coalition        false  \n",
              "7                          Facebook posts        false  \n",
              "8                          Facebook posts        false  \n",
              "9                        Kelda Helen Roys         true  "
            ],
            "text/html": [
              "\n",
              "  <div id=\"df-053de2ea-510c-444a-9bda-0db4f11b8975\">\n",
              "    <div class=\"colab-df-container\">\n",
              "      <div>\n",
              "<style scoped>\n",
              "    .dataframe tbody tr th:only-of-type {\n",
              "        vertical-align: middle;\n",
              "    }\n",
              "\n",
              "    .dataframe tbody tr th {\n",
              "        vertical-align: top;\n",
              "    }\n",
              "\n",
              "    .dataframe thead th {\n",
              "        text-align: right;\n",
              "    }\n",
              "</style>\n",
              "<table border=\"1\" class=\"dataframe\">\n",
              "  <thead>\n",
              "    <tr style=\"text-align: right;\">\n",
              "      <th></th>\n",
              "      <th>Unnamed: 0</th>\n",
              "      <th>Statement</th>\n",
              "      <th>Link</th>\n",
              "      <th>Date</th>\n",
              "      <th>Source</th>\n",
              "      <th>Label</th>\n",
              "    </tr>\n",
              "  </thead>\n",
              "  <tbody>\n",
              "    <tr>\n",
              "      <th>0</th>\n",
              "      <td>0</td>\n",
              "      <td>The Biden administration has been \"recklessly ...</td>\n",
              "      <td>https://www.politifact.com/factchecks/2022/may...</td>\n",
              "      <td>May 13, 2022</td>\n",
              "      <td>Tom Tiffany</td>\n",
              "      <td>barely-true</td>\n",
              "    </tr>\n",
              "    <tr>\n",
              "      <th>1</th>\n",
              "      <td>1</td>\n",
              "      <td>Suggests Amber Heard snorted cocaine while on ...</td>\n",
              "      <td>https://www.politifact.com/factchecks/2022/may...</td>\n",
              "      <td>May 12, 2022</td>\n",
              "      <td>Facebook posts</td>\n",
              "      <td>pants-fire</td>\n",
              "    </tr>\n",
              "    <tr>\n",
              "      <th>2</th>\n",
              "      <td>2</td>\n",
              "      <td>The infant formula shortage was purposely crea...</td>\n",
              "      <td>https://www.politifact.com/factchecks/2022/may...</td>\n",
              "      <td>May 12, 2022</td>\n",
              "      <td>Facebook posts</td>\n",
              "      <td>false</td>\n",
              "    </tr>\n",
              "    <tr>\n",
              "      <th>3</th>\n",
              "      <td>3</td>\n",
              "      <td>\"Kari Lake has been appearing at rallies with ...</td>\n",
              "      <td>https://www.politifact.com/factchecks/2022/may...</td>\n",
              "      <td>May 12, 2022</td>\n",
              "      <td>Aaron Lieberman</td>\n",
              "      <td>barely-true</td>\n",
              "    </tr>\n",
              "    <tr>\n",
              "      <th>4</th>\n",
              "      <td>4</td>\n",
              "      <td>“Is ANYONE asking how Ron DeSantis was worth $...</td>\n",
              "      <td>https://www.politifact.com/factchecks/2022/may...</td>\n",
              "      <td>May 12, 2022</td>\n",
              "      <td>Tweets</td>\n",
              "      <td>false</td>\n",
              "    </tr>\n",
              "    <tr>\n",
              "      <th>5</th>\n",
              "      <td>5</td>\n",
              "      <td>An adenovirus is a combination of viruses, gas...</td>\n",
              "      <td>https://www.politifact.com/factchecks/2022/may...</td>\n",
              "      <td>May 12, 2022</td>\n",
              "      <td>Facebook posts</td>\n",
              "      <td>false</td>\n",
              "    </tr>\n",
              "    <tr>\n",
              "      <th>6</th>\n",
              "      <td>6</td>\n",
              "      <td>“CO2 is not a pollutant.”</td>\n",
              "      <td>https://www.politifact.com/factchecks/2022/may...</td>\n",
              "      <td>May 12, 2022</td>\n",
              "      <td>Suburban Virginia Republican Coalition</td>\n",
              "      <td>false</td>\n",
              "    </tr>\n",
              "    <tr>\n",
              "      <th>7</th>\n",
              "      <td>7</td>\n",
              "      <td>Supreme Court Justices Amy Coney Barrett and S...</td>\n",
              "      <td>https://www.politifact.com/factchecks/2022/may...</td>\n",
              "      <td>May 12, 2022</td>\n",
              "      <td>Facebook posts</td>\n",
              "      <td>false</td>\n",
              "    </tr>\n",
              "    <tr>\n",
              "      <th>8</th>\n",
              "      <td>8</td>\n",
              "      <td>Says photo shows \"one of Tesla's lithium suppl...</td>\n",
              "      <td>https://www.politifact.com/factchecks/2022/may...</td>\n",
              "      <td>May 11, 2022</td>\n",
              "      <td>Facebook posts</td>\n",
              "      <td>false</td>\n",
              "    </tr>\n",
              "    <tr>\n",
              "      <th>9</th>\n",
              "      <td>9</td>\n",
              "      <td>Due to U.S. Senate rules, Democrats need \"more...</td>\n",
              "      <td>https://www.politifact.com/factchecks/2022/may...</td>\n",
              "      <td>May 11, 2022</td>\n",
              "      <td>Kelda Helen Roys</td>\n",
              "      <td>true</td>\n",
              "    </tr>\n",
              "  </tbody>\n",
              "</table>\n",
              "</div>\n",
              "      <button class=\"colab-df-convert\" onclick=\"convertToInteractive('df-053de2ea-510c-444a-9bda-0db4f11b8975')\"\n",
              "              title=\"Convert this dataframe to an interactive table.\"\n",
              "              style=\"display:none;\">\n",
              "        \n",
              "  <svg xmlns=\"http://www.w3.org/2000/svg\" height=\"24px\"viewBox=\"0 0 24 24\"\n",
              "       width=\"24px\">\n",
              "    <path d=\"M0 0h24v24H0V0z\" fill=\"none\"/>\n",
              "    <path d=\"M18.56 5.44l.94 2.06.94-2.06 2.06-.94-2.06-.94-.94-2.06-.94 2.06-2.06.94zm-11 1L8.5 8.5l.94-2.06 2.06-.94-2.06-.94L8.5 2.5l-.94 2.06-2.06.94zm10 10l.94 2.06.94-2.06 2.06-.94-2.06-.94-.94-2.06-.94 2.06-2.06.94z\"/><path d=\"M17.41 7.96l-1.37-1.37c-.4-.4-.92-.59-1.43-.59-.52 0-1.04.2-1.43.59L10.3 9.45l-7.72 7.72c-.78.78-.78 2.05 0 2.83L4 21.41c.39.39.9.59 1.41.59.51 0 1.02-.2 1.41-.59l7.78-7.78 2.81-2.81c.8-.78.8-2.07 0-2.86zM5.41 20L4 18.59l7.72-7.72 1.47 1.35L5.41 20z\"/>\n",
              "  </svg>\n",
              "      </button>\n",
              "      \n",
              "  <style>\n",
              "    .colab-df-container {\n",
              "      display:flex;\n",
              "      flex-wrap:wrap;\n",
              "      gap: 12px;\n",
              "    }\n",
              "\n",
              "    .colab-df-convert {\n",
              "      background-color: #E8F0FE;\n",
              "      border: none;\n",
              "      border-radius: 50%;\n",
              "      cursor: pointer;\n",
              "      display: none;\n",
              "      fill: #1967D2;\n",
              "      height: 32px;\n",
              "      padding: 0 0 0 0;\n",
              "      width: 32px;\n",
              "    }\n",
              "\n",
              "    .colab-df-convert:hover {\n",
              "      background-color: #E2EBFA;\n",
              "      box-shadow: 0px 1px 2px rgba(60, 64, 67, 0.3), 0px 1px 3px 1px rgba(60, 64, 67, 0.15);\n",
              "      fill: #174EA6;\n",
              "    }\n",
              "\n",
              "    [theme=dark] .colab-df-convert {\n",
              "      background-color: #3B4455;\n",
              "      fill: #D2E3FC;\n",
              "    }\n",
              "\n",
              "    [theme=dark] .colab-df-convert:hover {\n",
              "      background-color: #434B5C;\n",
              "      box-shadow: 0px 1px 3px 1px rgba(0, 0, 0, 0.15);\n",
              "      filter: drop-shadow(0px 1px 2px rgba(0, 0, 0, 0.3));\n",
              "      fill: #FFFFFF;\n",
              "    }\n",
              "  </style>\n",
              "\n",
              "      <script>\n",
              "        const buttonEl =\n",
              "          document.querySelector('#df-053de2ea-510c-444a-9bda-0db4f11b8975 button.colab-df-convert');\n",
              "        buttonEl.style.display =\n",
              "          google.colab.kernel.accessAllowed ? 'block' : 'none';\n",
              "\n",
              "        async function convertToInteractive(key) {\n",
              "          const element = document.querySelector('#df-053de2ea-510c-444a-9bda-0db4f11b8975');\n",
              "          const dataTable =\n",
              "            await google.colab.kernel.invokeFunction('convertToInteractive',\n",
              "                                                     [key], {});\n",
              "          if (!dataTable) return;\n",
              "\n",
              "          const docLinkHtml = 'Like what you see? Visit the ' +\n",
              "            '<a target=\"_blank\" href=https://colab.research.google.com/notebooks/data_table.ipynb>data table notebook</a>'\n",
              "            + ' to learn more about interactive tables.';\n",
              "          element.innerHTML = '';\n",
              "          dataTable['output_type'] = 'display_data';\n",
              "          await google.colab.output.renderOutput(dataTable, element);\n",
              "          const docLink = document.createElement('div');\n",
              "          docLink.innerHTML = docLinkHtml;\n",
              "          element.appendChild(docLink);\n",
              "        }\n",
              "      </script>\n",
              "    </div>\n",
              "  </div>\n",
              "  "
            ]
          },
          "metadata": {},
          "execution_count": 8
        }
      ]
    },
    {
      "cell_type": "code",
      "source": [
        "def cleaning(raw_news):\n",
        "    # import nltk\n",
        "    # nltk.download('punkt')\n",
        "    # nltk.download('wordnet')\n",
        "    \n",
        "    # 1. Remove non-letters/Special Characters and Punctuations\n",
        "    news = re.sub(\"[^a-zA-Z]\", \" \", str(raw_news))\n",
        "    \n",
        "    # 2. Convert to lower case.\n",
        "    news =  news.lower()\n",
        "    \n",
        "    # 3. Tokenize.\n",
        "    news_words = nltk.word_tokenize( news)\n",
        "    \n",
        "    # 4. Convert the stopwords list to \"set\" data type.\n",
        "    stops = set(nltk.corpus.stopwords.words(\"english\"))\n",
        "    \n",
        "    # 5. Remove stop words. \n",
        "    words = [w for w in  news_words  if not w in stops]\n",
        "    \n",
        "    # 6. Lemmentize \n",
        "    wordnet_lem = [ WordNetLemmatizer().lemmatize(w) for w in words ]\n",
        "    \n",
        "    # 7. Stemming\n",
        "    stems = [nltk.stem.SnowballStemmer('english').stem(w) for w in wordnet_lem ]\n",
        "    \n",
        "    # 8. Join the stemmed words back into one string separated by space, and return the result.\n",
        "    return \" \".join(stems)"
      ],
      "metadata": {
        "id": "twlqWyZmzHIT"
      },
      "execution_count": null,
      "outputs": []
    },
    {
      "cell_type": "code",
      "source": [
        "# Reference https://gist.github.com/AhmedHani/81bd40ff3ce4d9131f02c89fe099d490\n",
        "def get_sentences(text):\n",
        "    return re.split('\\? |, |!|\\n', text)\n",
        "\n",
        "def get_words(sentences):\n",
        "    return sum([sentence.split() for sentence in sentences], [])\n",
        "\n",
        "def get_average_word_length(words):\n",
        "    return sum([len(word) for word in words]) // len(words)\n",
        "  \n",
        "def get_average_word_based_sentence_length(sentences):\n",
        "    return sum([len(sentence.split()) for sentence in sentences]) // len(sentences)\n",
        "\n",
        "def get_average_chars_based_sentence_length(sentences):\n",
        "    return sum([len(sentence) for sentence in sentences]) // len(sentences)\n",
        "  \n",
        "def get_punctuations_count(text):\n",
        "    return len([c for c in text if c in string.punctuation])\n",
        "\n",
        "def vocab_richness_ratio(words):\n",
        "  return float(len(set(words))) / float(len(words))\n",
        "\n",
        "def shannon_entropy(words):\n",
        "  import math\n",
        "  import numpy as np\n",
        "  import scipy as sc\n",
        "  from collections import Counter\n",
        "\n",
        "  length = len(words)\n",
        "  freqs = Counter(words)\n",
        "  distribution = np.array(list(freqs.values()))\n",
        "  distribution = np.true_divide(distribution, length)\n",
        "    \n",
        "  E = sc.stats.entropy(distribution, base=2)\n",
        "\n",
        "  return E\n",
        "\n",
        "def syllables_count(words, vowels=\"aeiouy\"):\n",
        "  total_count = 0.0\n",
        "\n",
        "  for word in words:\n",
        "    word = word.lower()\n",
        "    count = 0\n",
        "  \n",
        "    if word[0] in vowels:\n",
        "      count += 1\n",
        "  \n",
        "    for i in range(1, len(word)):\n",
        "      if word[i] in vowels and word[i - 1] not in vowels:\n",
        "        count += 1\n",
        "\n",
        "        if word.endswith(\"e\"):\n",
        "          count -= 1\n",
        "    \n",
        "    if count == 0:\n",
        "      count = 1\n",
        "    \n",
        "    total_count += count\n",
        "\n",
        "  return total_count, (total_count // len(words)) # Average\n",
        "\n",
        "def flesch_reading_ease(words, sentences, avg_word_based_sentence_length):\n",
        "  # 206.835 - (1.015 * Average Number of Words Per Sentence) - (84.6 * Average Syllables Count Per Sentence)\n",
        "  _, avg_syllables_count = syllables_count(words)\n",
        "\n",
        "  return 206.835 - (1.015 * avg_word_based_sentence_length) - (84.6 * avg_syllables_count)"
      ],
      "metadata": {
        "id": "0qhyiM2pRkjT"
      },
      "execution_count": null,
      "outputs": []
    },
    {
      "cell_type": "code",
      "source": [
        "def mergeLabel(r):\n",
        "  '''\n",
        "  Merge the PolitiFacts's 8 labels to Liar Liar's 6 data label\n",
        "  Change full-flop to pants-fire, and half-flip to barely-true\n",
        "  '''\n",
        "\n",
        "  # v = r['Label']\n",
        "\n",
        "  if (r == 'half-flip'):\n",
        "      r = 'pants-fire'\n",
        "  if (r == 'full-flop'):\n",
        "      r = 'barely-true'\n",
        "  return r \n"
      ],
      "metadata": {
        "id": "2woda8uuPEa-"
      },
      "execution_count": null,
      "outputs": []
    },
    {
      "cell_type": "code",
      "source": [
        "def mergeNumberLabel(r):\n",
        "        '''\n",
        "        Convert labels to Integers\n",
        "        '''\n",
        "\n",
        "        # v = r['Label']\n",
        "\n",
        "        if (r == 'true'):\n",
        "            r = 0\n",
        "        if (r == 'mostly-true'):\n",
        "            r = 1\n",
        "        if (r == 'half-true'):\n",
        "            r = 2\n",
        "        if (r == 'barely-true'):\n",
        "            r = 3\n",
        "        if (r == 'false'):\n",
        "            r = 4\n",
        "        if (r == 'pants-fire'):\n",
        "            r = 5\n",
        "        if (r == 'half-flip'):\n",
        "            r = 5\n",
        "        if (r == 'full-flop'):\n",
        "            r = 3\n",
        "        return r "
      ],
      "metadata": {
        "id": "_fxtoLSVY_T0"
      },
      "execution_count": null,
      "outputs": []
    },
    {
      "cell_type": "code",
      "source": [
        "#politifact_df['Label'] = politifact_df[\"Label\"].apply(mergeNumberLabel)\n",
        "train_data_liarliarplus['label'] = train_data_liarliarplus[\"label\"].apply(mergeNumberLabel)\n",
        "test_data_liarliarplus['label'] = test_data_liarliarplus[\"label\"].apply(mergeNumberLabel)\n",
        "valid_data_liarliarplus['label'] = valid_data_liarliarplus[\"label\"].apply(mergeNumberLabel)"
      ],
      "metadata": {
        "id": "V8r1TYKu0INV"
      },
      "execution_count": null,
      "outputs": []
    },
    {
      "cell_type": "code",
      "source": [
        "def corpursStyleEval(df): \n",
        "  train_final = df.copy()\n",
        "\n",
        "  train_final['label'] = train_final[\"label\"].apply(mergeNumberLabel)\n",
        "\n",
        "  train_final['sentences'] = train_final['clean'].apply(get_sentences)\n",
        "  # train_final['n_sentences'] = politifact_df[\"sentences\"].apply(len)\n",
        "  # print(f'number of sentences: {n_sentences}')\n",
        "          \n",
        "  train_final['words'] = train_final['sentences'].apply(get_words)\n",
        "  # train_final['n_words'] = len(train_final['words'])\n",
        "  # print(f'number of words: {n_words}')\n",
        "          \n",
        "  train_final['avg_word_length'] = train_final['words'].apply(get_average_word_length)\n",
        "  # print(f'average word length: {avg_word_length}')\n",
        "          \n",
        "  train_final['avg_word_based_sentence_length'] = train_final['sentences'].apply(get_average_word_based_sentence_length)\n",
        "  # print(f'average word-based sentence length: {avg_word_based_sentence_length}')\n",
        "          \n",
        "  train_final['avg_char_based_sentence_length'] = train_final['sentences'].apply(get_average_chars_based_sentence_length)\n",
        "  # print(f'average char-based sentence length: {avg_char_based_sentence_length}')\n",
        "          \n",
        "  train_final['punc_count'] = train_final['clean'].apply(get_punctuations_count)\n",
        "  # print(f'punctuations count: {punc_count}')\n",
        "\n",
        "  train_final['richness_ratio'] = train_final['words'].apply(vocab_richness_ratio)\n",
        "\n",
        "  train_final['flesch_score']=0\n",
        "  for i in range(train_final.shape[0]):\n",
        "    train_final['flesch_score'][i] = flesch_reading_ease(train_final['words'][i], train_final['sentences'][i], train_final['avg_word_based_sentence_length'][i])\n",
        "\n",
        "  return train_final[['clean', 'label', 'richness_ratio', 'flesch_score']].copy()"
      ],
      "metadata": {
        "id": "CFrtEhSHpsgE"
      },
      "execution_count": null,
      "outputs": []
    },
    {
      "cell_type": "code",
      "source": [
        "import re\n",
        "import nltk\n",
        "import string\n",
        "nltk.download('punkt')\n",
        "nltk.download('stopwords')\n",
        "nltk.download('wordnet')\n",
        "nltk.download('averaged_perceptron_tagger')\n",
        "import matplotlib.pyplot as plt\n",
        "from scipy import sparse\n",
        "import warnings\n",
        "warnings.filterwarnings(\"ignore\")\n",
        "from nltk.stem.wordnet import WordNetLemmatizer\n",
        "\n",
        "# politifact_df['clean'] = politifact_df[\"Statement\"].apply(cleaning)\n",
        "# politifact_df = corpursStyleEval(politifact_df)\n",
        "\n",
        "train_data_liarliarplus['clean'] = train_data_liarliarplus[\"news\"].apply(cleaning)\n",
        "train_data_liarliarplus = corpursStyleEval(train_data_liarliarplus)\n",
        "\n",
        "test_data_liarliarplus['clean'] = test_data_liarliarplus[\"news\"].apply(cleaning)\n",
        "test_data_liarliarplus = corpursStyleEval(test_data_liarliarplus)\n",
        "\n",
        "valid_data_liarliarplus['clean'] = valid_data_liarliarplus[\"news\"].apply(cleaning)\n",
        "valid_data_liarliarplus = corpursStyleEval(valid_data_liarliarplus)"
      ],
      "metadata": {
        "id": "4ABfjsWm1eid",
        "colab": {
          "base_uri": "https://localhost:8080/"
        },
        "outputId": "8e15fc9f-6ea1-480c-82f7-6eba39532218"
      },
      "execution_count": null,
      "outputs": [
        {
          "output_type": "stream",
          "name": "stdout",
          "text": [
            "[nltk_data] Downloading package punkt to /root/nltk_data...\n",
            "[nltk_data]   Unzipping tokenizers/punkt.zip.\n",
            "[nltk_data] Downloading package stopwords to /root/nltk_data...\n",
            "[nltk_data]   Unzipping corpora/stopwords.zip.\n",
            "[nltk_data] Downloading package wordnet to /root/nltk_data...\n",
            "[nltk_data]   Unzipping corpora/wordnet.zip.\n",
            "[nltk_data] Downloading package averaged_perceptron_tagger to\n",
            "[nltk_data]     /root/nltk_data...\n",
            "[nltk_data]   Unzipping taggers/averaged_perceptron_tagger.zip.\n"
          ]
        }
      ]
    },
    {
      "cell_type": "code",
      "source": [
        "# valid_data_liarliarplus.to_csv(\"llp_valid.csv\")\n",
        "# train_data_liarliarplus.to_csv(\"llp_train.csv\")\n",
        "# test_data_liarliarplus.to_csv(\"llp_test.csv\")\n",
        "\n",
        "valid_data_liarliarplus = pd.read_csv(\"llp_valid.csv\")\n",
        "train_data_liarliarplus = pd.read_csv(\"llp_train.csv\")\n",
        "test_data_liarliarplus= pd.read_csv(\"llp_test.csv\")"
      ],
      "metadata": {
        "id": "WRzY2UyI_PIh"
      },
      "execution_count": null,
      "outputs": []
    },
    {
      "cell_type": "code",
      "source": [
        "import pandas as pd\n",
        "import numpy as np\n",
        "import re\n",
        "\n",
        "from sklearn.preprocessing import MinMaxScaler\n",
        "import pickle\n",
        "\n",
        "from tensorflow.keras.layers import *\n",
        "from keras.layers import *\n",
        "from keras.preprocessing.text import Tokenizer\n",
        "from keras.preprocessing.sequence import pad_sequences\n",
        "from keras.models import Model\n",
        "from keras.models import Sequential\n",
        "from keras.layers import Dense, Dropout, Embedding, LSTM, Bidirectional\n",
        "from tensorflow.keras import activations\n",
        "from keras.callbacks import EarlyStopping\n",
        "from tensorflow.keras.optimizers import Adam\n",
        "from tensorflow.keras.optimizers import SGD\n",
        "from sklearn.metrics import classification_report"
      ],
      "metadata": {
        "id": "ZQ2TRM8M5LOB"
      },
      "execution_count": null,
      "outputs": []
    },
    {
      "cell_type": "code",
      "source": [
        "politifact_df.to_csv('/content/final_abraham.csv')"
      ],
      "metadata": {
        "id": "Mz4FXX5A6vUy"
      },
      "execution_count": null,
      "outputs": []
    },
    {
      "cell_type": "code",
      "source": [
        "train_data_liarliarplus.head(1)"
      ],
      "metadata": {
        "id": "CZkS8vFwA6cy",
        "outputId": "68fe24cd-2ae5-4d1a-9187-34124802e98d",
        "colab": {
          "base_uri": "https://localhost:8080/",
          "height": 81
        }
      },
      "execution_count": null,
      "outputs": [
        {
          "output_type": "execute_result",
          "data": {
            "text/plain": [
              "   Unnamed: 0                                              clean  label  \\\n",
              "0           0  declin coal start start natur gas took start b...    2.0   \n",
              "\n",
              "   richness_ratio  flesch_score  \n",
              "0        0.857143           108  "
            ],
            "text/html": [
              "\n",
              "  <div id=\"df-baa5600b-193d-4b2a-b3be-7d3c1cfe574b\">\n",
              "    <div class=\"colab-df-container\">\n",
              "      <div>\n",
              "<style scoped>\n",
              "    .dataframe tbody tr th:only-of-type {\n",
              "        vertical-align: middle;\n",
              "    }\n",
              "\n",
              "    .dataframe tbody tr th {\n",
              "        vertical-align: top;\n",
              "    }\n",
              "\n",
              "    .dataframe thead th {\n",
              "        text-align: right;\n",
              "    }\n",
              "</style>\n",
              "<table border=\"1\" class=\"dataframe\">\n",
              "  <thead>\n",
              "    <tr style=\"text-align: right;\">\n",
              "      <th></th>\n",
              "      <th>Unnamed: 0</th>\n",
              "      <th>clean</th>\n",
              "      <th>label</th>\n",
              "      <th>richness_ratio</th>\n",
              "      <th>flesch_score</th>\n",
              "    </tr>\n",
              "  </thead>\n",
              "  <tbody>\n",
              "    <tr>\n",
              "      <th>0</th>\n",
              "      <td>0</td>\n",
              "      <td>declin coal start start natur gas took start b...</td>\n",
              "      <td>2.0</td>\n",
              "      <td>0.857143</td>\n",
              "      <td>108</td>\n",
              "    </tr>\n",
              "  </tbody>\n",
              "</table>\n",
              "</div>\n",
              "      <button class=\"colab-df-convert\" onclick=\"convertToInteractive('df-baa5600b-193d-4b2a-b3be-7d3c1cfe574b')\"\n",
              "              title=\"Convert this dataframe to an interactive table.\"\n",
              "              style=\"display:none;\">\n",
              "        \n",
              "  <svg xmlns=\"http://www.w3.org/2000/svg\" height=\"24px\"viewBox=\"0 0 24 24\"\n",
              "       width=\"24px\">\n",
              "    <path d=\"M0 0h24v24H0V0z\" fill=\"none\"/>\n",
              "    <path d=\"M18.56 5.44l.94 2.06.94-2.06 2.06-.94-2.06-.94-.94-2.06-.94 2.06-2.06.94zm-11 1L8.5 8.5l.94-2.06 2.06-.94-2.06-.94L8.5 2.5l-.94 2.06-2.06.94zm10 10l.94 2.06.94-2.06 2.06-.94-2.06-.94-.94-2.06-.94 2.06-2.06.94z\"/><path d=\"M17.41 7.96l-1.37-1.37c-.4-.4-.92-.59-1.43-.59-.52 0-1.04.2-1.43.59L10.3 9.45l-7.72 7.72c-.78.78-.78 2.05 0 2.83L4 21.41c.39.39.9.59 1.41.59.51 0 1.02-.2 1.41-.59l7.78-7.78 2.81-2.81c.8-.78.8-2.07 0-2.86zM5.41 20L4 18.59l7.72-7.72 1.47 1.35L5.41 20z\"/>\n",
              "  </svg>\n",
              "      </button>\n",
              "      \n",
              "  <style>\n",
              "    .colab-df-container {\n",
              "      display:flex;\n",
              "      flex-wrap:wrap;\n",
              "      gap: 12px;\n",
              "    }\n",
              "\n",
              "    .colab-df-convert {\n",
              "      background-color: #E8F0FE;\n",
              "      border: none;\n",
              "      border-radius: 50%;\n",
              "      cursor: pointer;\n",
              "      display: none;\n",
              "      fill: #1967D2;\n",
              "      height: 32px;\n",
              "      padding: 0 0 0 0;\n",
              "      width: 32px;\n",
              "    }\n",
              "\n",
              "    .colab-df-convert:hover {\n",
              "      background-color: #E2EBFA;\n",
              "      box-shadow: 0px 1px 2px rgba(60, 64, 67, 0.3), 0px 1px 3px 1px rgba(60, 64, 67, 0.15);\n",
              "      fill: #174EA6;\n",
              "    }\n",
              "\n",
              "    [theme=dark] .colab-df-convert {\n",
              "      background-color: #3B4455;\n",
              "      fill: #D2E3FC;\n",
              "    }\n",
              "\n",
              "    [theme=dark] .colab-df-convert:hover {\n",
              "      background-color: #434B5C;\n",
              "      box-shadow: 0px 1px 3px 1px rgba(0, 0, 0, 0.15);\n",
              "      filter: drop-shadow(0px 1px 2px rgba(0, 0, 0, 0.3));\n",
              "      fill: #FFFFFF;\n",
              "    }\n",
              "  </style>\n",
              "\n",
              "      <script>\n",
              "        const buttonEl =\n",
              "          document.querySelector('#df-baa5600b-193d-4b2a-b3be-7d3c1cfe574b button.colab-df-convert');\n",
              "        buttonEl.style.display =\n",
              "          google.colab.kernel.accessAllowed ? 'block' : 'none';\n",
              "\n",
              "        async function convertToInteractive(key) {\n",
              "          const element = document.querySelector('#df-baa5600b-193d-4b2a-b3be-7d3c1cfe574b');\n",
              "          const dataTable =\n",
              "            await google.colab.kernel.invokeFunction('convertToInteractive',\n",
              "                                                     [key], {});\n",
              "          if (!dataTable) return;\n",
              "\n",
              "          const docLinkHtml = 'Like what you see? Visit the ' +\n",
              "            '<a target=\"_blank\" href=https://colab.research.google.com/notebooks/data_table.ipynb>data table notebook</a>'\n",
              "            + ' to learn more about interactive tables.';\n",
              "          element.innerHTML = '';\n",
              "          dataTable['output_type'] = 'display_data';\n",
              "          await google.colab.output.renderOutput(dataTable, element);\n",
              "          const docLink = document.createElement('div');\n",
              "          docLink.innerHTML = docLinkHtml;\n",
              "          element.appendChild(docLink);\n",
              "        }\n",
              "      </script>\n",
              "    </div>\n",
              "  </div>\n",
              "  "
            ]
          },
          "metadata": {},
          "execution_count": 48
        }
      ]
    },
    {
      "cell_type": "code",
      "source": [
        "from sklearn.preprocessing import MinMaxScaler\n",
        "\n",
        "train_data_liarliarplus.dropna(inplace = True)\n",
        "test_data_liarliarplus.dropna(inplace = True)\n",
        "\n",
        "train_final = train_data_liarliarplus[train_data_liarliarplus['flesch_score'].notna()]\n",
        "X_train = train_final[['richness_ratio', 'flesch_score']].copy()\n",
        "y_train = train_final['label']\n",
        "\n",
        "test_final = test_data_liarliarplus[test_data_liarliarplus['flesch_score'].notna()]\n",
        "X_test = test_final[['richness_ratio', 'flesch_score']].copy()\n",
        "y_test = test_final['label']\n",
        "# from sklearn.model_selection import train_test_split\n",
        "# X_train, X_test, y_train, y_test = train_test_split(X, y, test_size=0.2, random_state=42)\n",
        "\n",
        "scaler = MinMaxScaler()\n",
        "X_train = scaler.fit_transform(X_train)\n",
        "X_test = scaler.transform(X_test)\n"
      ],
      "metadata": {
        "id": "MMWsrzaG5lk1"
      },
      "execution_count": null,
      "outputs": []
    },
    {
      "cell_type": "code",
      "source": [
        "import joblib\n",
        "joblib.dump(scaler, 'abraham_scaler.sav')"
      ],
      "metadata": {
        "colab": {
          "base_uri": "https://localhost:8080/"
        },
        "id": "VDZvuW03LraY",
        "outputId": "91dc5cde-7bc7-4328-ad7d-98705adf1811"
      },
      "execution_count": null,
      "outputs": [
        {
          "output_type": "execute_result",
          "data": {
            "text/plain": [
              "['abraham_scaler.sav']"
            ]
          },
          "metadata": {},
          "execution_count": 67
        }
      ]
    },
    {
      "cell_type": "code",
      "source": [
        "X_train = np.expand_dims(X_train, 1)\n",
        "X_test = np.expand_dims(X_test, 1)\n",
        "\n",
        "X_train = np.asarray(X_train).astype(np.float32)\n",
        "y_train = np.asarray(y_train).astype(np.float32)"
      ],
      "metadata": {
        "id": "jPB8WlacwpFr"
      },
      "execution_count": null,
      "outputs": []
    },
    {
      "cell_type": "code",
      "source": [
        "X_train.shape"
      ],
      "metadata": {
        "colab": {
          "base_uri": "https://localhost:8080/"
        },
        "id": "hz9AzPUrxlVe",
        "outputId": "eecc46ed-2009-4b50-91a6-fc1252757bc9"
      },
      "execution_count": null,
      "outputs": [
        {
          "output_type": "execute_result",
          "data": {
            "text/plain": [
              "(10239, 1, 2)"
            ]
          },
          "metadata": {},
          "execution_count": 51
        }
      ]
    },
    {
      "cell_type": "code",
      "source": [
        "y_train.dropna"
      ],
      "metadata": {
        "id": "ErFZjkv_C511",
        "outputId": "870edde8-e63b-4988-aecf-ff68bad3336d",
        "colab": {
          "base_uri": "https://localhost:8080/"
        }
      },
      "execution_count": null,
      "outputs": [
        {
          "output_type": "execute_result",
          "data": {
            "text/plain": [
              "<bound method Series.dropna of 0        2.0\n",
              "1        1.0\n",
              "2        4.0\n",
              "3        2.0\n",
              "4        0.0\n",
              "        ... \n",
              "10236    1.0\n",
              "10237    1.0\n",
              "10238    2.0\n",
              "10239    4.0\n",
              "10240    5.0\n",
              "Name: label, Length: 10239, dtype: float64>"
            ]
          },
          "metadata": {},
          "execution_count": 33
        }
      ]
    },
    {
      "cell_type": "code",
      "source": [
        "from keras.regularizers import l2\n",
        "\n",
        "sgd = SGD(lr=0.001, momentum=0.8)\n",
        "def BiLstm():\n",
        "    model = Sequential()\n",
        "    model.add((LSTM(256, activation=activations.relu)))\n",
        "    model.add(Dense(256, activation=activations.relu))\n",
        "    model.add(Dense(128, activation=activations.relu))\n",
        "    model.add(Dropout(0.5))\n",
        "    model.add(Dense(128, activation=activations.relu))\n",
        "    model.add(Dense(128, activation=activations.relu))\n",
        "    model.add(Dropout(0.5))\n",
        "    model.add(Dense(64, activation=activations.relu))\n",
        "    model.add(Dense(64, activation=activations.relu))\n",
        "    model.add(Dropout(0.5))\n",
        "    model.add(Dense(32, activation=activations.relu))\n",
        "    model.add(Dense(32, activation=activations.relu))\n",
        "    model.add(Dense(6, activation=activations.softmax))\n",
        "    model.build(input_shape = X_train.shape)\n",
        "    model.compile(optimizer='Adam', loss='sparse_categorical_crossentropy', metrics=['accuracy'])\n",
        "    return model"
      ],
      "metadata": {
        "id": "ks85Vxh54j2U"
      },
      "execution_count": null,
      "outputs": []
    },
    {
      "cell_type": "code",
      "source": [
        "from tensorflow import keras\n",
        "from tensorflow.keras import layers\n",
        "\n",
        "model = BiLstm()\n",
        "model.summary()"
      ],
      "metadata": {
        "id": "mwuJs1WL4nYt",
        "colab": {
          "base_uri": "https://localhost:8080/"
        },
        "outputId": "f34001c3-35f7-43b0-d5ce-5235cf836d5d"
      },
      "execution_count": null,
      "outputs": [
        {
          "output_type": "stream",
          "name": "stdout",
          "text": [
            "Model: \"sequential_2\"\n",
            "_________________________________________________________________\n",
            " Layer (type)                Output Shape              Param #   \n",
            "=================================================================\n",
            " lstm_2 (LSTM)               (10239, 256)              265216    \n",
            "                                                                 \n",
            " dense_18 (Dense)            (10239, 256)              65792     \n",
            "                                                                 \n",
            " dense_19 (Dense)            (10239, 128)              32896     \n",
            "                                                                 \n",
            " dropout_6 (Dropout)         (10239, 128)              0         \n",
            "                                                                 \n",
            " dense_20 (Dense)            (10239, 128)              16512     \n",
            "                                                                 \n",
            " dense_21 (Dense)            (10239, 128)              16512     \n",
            "                                                                 \n",
            " dropout_7 (Dropout)         (10239, 128)              0         \n",
            "                                                                 \n",
            " dense_22 (Dense)            (10239, 64)               8256      \n",
            "                                                                 \n",
            " dense_23 (Dense)            (10239, 64)               4160      \n",
            "                                                                 \n",
            " dropout_8 (Dropout)         (10239, 64)               0         \n",
            "                                                                 \n",
            " dense_24 (Dense)            (10239, 32)               2080      \n",
            "                                                                 \n",
            " dense_25 (Dense)            (10239, 32)               1056      \n",
            "                                                                 \n",
            " dense_26 (Dense)            (10239, 6)                198       \n",
            "                                                                 \n",
            "=================================================================\n",
            "Total params: 412,678\n",
            "Trainable params: 412,678\n",
            "Non-trainable params: 0\n",
            "_________________________________________________________________\n"
          ]
        }
      ]
    },
    {
      "cell_type": "code",
      "source": [
        "history = model.fit(X_train, y_train,\n",
        "                    validation_data=(X_test, y_test), \n",
        "                    epochs=10, \n",
        "                    batch_size=100, \n",
        "                   # callbacks=lrate, \n",
        "                    verbose=2)"
      ],
      "metadata": {
        "id": "3Ri6XdNm4x9j",
        "colab": {
          "base_uri": "https://localhost:8080/"
        },
        "outputId": "8403bb88-e093-437f-8c77-ba9e533687b5"
      },
      "execution_count": null,
      "outputs": [
        {
          "output_type": "stream",
          "name": "stdout",
          "text": [
            "Epoch 1/10\n",
            "103/103 - 2s - loss: 1.7570 - accuracy: 0.2074 - val_loss: 1.7499 - val_accuracy: 0.2093 - 2s/epoch - 24ms/step\n",
            "Epoch 2/10\n",
            "103/103 - 2s - loss: 1.7568 - accuracy: 0.2065 - val_loss: 1.7504 - val_accuracy: 0.2093 - 2s/epoch - 21ms/step\n",
            "Epoch 3/10\n",
            "103/103 - 2s - loss: 1.7568 - accuracy: 0.2057 - val_loss: 1.7503 - val_accuracy: 0.2093 - 2s/epoch - 22ms/step\n",
            "Epoch 4/10\n",
            "103/103 - 2s - loss: 1.7573 - accuracy: 0.2054 - val_loss: 1.7502 - val_accuracy: 0.2093 - 2s/epoch - 23ms/step\n",
            "Epoch 5/10\n",
            "103/103 - 1s - loss: 1.7567 - accuracy: 0.2062 - val_loss: 1.7505 - val_accuracy: 0.2093 - 1s/epoch - 14ms/step\n",
            "Epoch 6/10\n",
            "103/103 - 1s - loss: 1.7564 - accuracy: 0.2020 - val_loss: 1.7511 - val_accuracy: 0.2093 - 1s/epoch - 14ms/step\n",
            "Epoch 7/10\n",
            "103/103 - 1s - loss: 1.7567 - accuracy: 0.2057 - val_loss: 1.7505 - val_accuracy: 0.2093 - 1s/epoch - 15ms/step\n",
            "Epoch 8/10\n",
            "103/103 - 2s - loss: 1.7566 - accuracy: 0.2075 - val_loss: 1.7498 - val_accuracy: 0.2093 - 2s/epoch - 15ms/step\n",
            "Epoch 9/10\n",
            "103/103 - 1s - loss: 1.7568 - accuracy: 0.2060 - val_loss: 1.7497 - val_accuracy: 0.2093 - 1s/epoch - 15ms/step\n",
            "Epoch 10/10\n",
            "103/103 - 1s - loss: 1.7572 - accuracy: 0.2002 - val_loss: 1.7496 - val_accuracy: 0.2093 - 1s/epoch - 14ms/step\n"
          ]
        }
      ]
    },
    {
      "cell_type": "code",
      "source": [
        "import joblib\n",
        "#model.save('/content/drive/My Drive/ML-Spring-2022/Data Miners/Assignments/Pooja/Assignment - 12/abraham_model.h5')\n",
        "joblib.dump(model, 'abraham_model.sav')"
      ],
      "metadata": {
        "colab": {
          "base_uri": "https://localhost:8080/"
        },
        "id": "uaQrkH_BEJYU",
        "outputId": "30dc772b-5d9e-4f5e-8fe9-3b00f29fb3a1"
      },
      "execution_count": null,
      "outputs": [
        {
          "output_type": "stream",
          "name": "stdout",
          "text": [
            "INFO:tensorflow:Assets written to: ram://ccd8219a-6009-49a7-818f-a664de3ab390/assets\n"
          ]
        },
        {
          "output_type": "stream",
          "name": "stderr",
          "text": [
            "INFO:tensorflow:Assets written to: ram://ccd8219a-6009-49a7-818f-a664de3ab390/assets\n",
            "WARNING:absl:<keras.layers.recurrent.LSTMCell object at 0x7f1fa65e68d0> has the same name 'LSTMCell' as a built-in Keras object. Consider renaming <class 'keras.layers.recurrent.LSTMCell'> to avoid naming conflicts when loading with `tf.keras.models.load_model`. If renaming is not possible, pass the object in the `custom_objects` parameter of the load function.\n"
          ]
        },
        {
          "output_type": "execute_result",
          "data": {
            "text/plain": [
              "['abraham_model.sav']"
            ]
          },
          "metadata": {},
          "execution_count": 64
        }
      ]
    },
    {
      "cell_type": "code",
      "source": [
        "def cleaning(raw_news):\n",
        "  # import nltk\n",
        "  # nltk.download('punkt')\n",
        "  # nltk.download('wordnet')\n",
        "  \n",
        "  # 1. Remove non-letters/Special Characters and Punctuations\n",
        "  news = re.sub(\"[^a-zA-Z]\", \" \", str(raw_news))\n",
        "  \n",
        "  # 2. Convert to lower case.\n",
        "  news =  news.lower()\n",
        "  \n",
        "  # 3. Tokenize.\n",
        "  news_words = nltk.word_tokenize( news)\n",
        "  \n",
        "  # 4. Convert the stopwords list to \"set\" data type.\n",
        "  stops = set(nltk.corpus.stopwords.words(\"english\"))\n",
        "  \n",
        "  # 5. Remove stop words. \n",
        "  words = [w for w in  news_words  if not w in stops]\n",
        "  \n",
        "  # 6. Lemmentize \n",
        "  wordnet_lem = [ WordNetLemmatizer().lemmatize(w) for w in words ]\n",
        "  \n",
        "  # 7. Stemming\n",
        "  stems = [nltk.stem.SnowballStemmer('english').stem(w) for w in wordnet_lem ]\n",
        "  \n",
        "  # 8. Join the stemmed words back into one string separated by space, and return the result.\n",
        "  return \" \".join(stems)\n",
        "\n",
        "def get_sentences(text):\n",
        "    return re.split('\\? |, |!|\\n', text)\n",
        "\n",
        "def get_words(sentences):\n",
        "    return sum([sentence.split() for sentence in sentences], [])\n",
        "\n",
        "def get_average_word_length(words):\n",
        "    return sum([len(word) for word in words]) // len(words)\n",
        "  \n",
        "def get_average_word_based_sentence_length(sentences):\n",
        "    return sum([len(sentence.split()) for sentence in sentences]) // len(sentences)\n",
        "\n",
        "def get_average_chars_based_sentence_length(sentences):\n",
        "    return sum([len(sentence) for sentence in sentences]) // len(sentences)\n",
        "  \n",
        "def get_punctuations_count(text):\n",
        "    return len([c for c in text if c in string.punctuation])\n",
        "\n",
        "def vocab_richness_ratio(words):\n",
        "  return float(len(set(words))) / float(len(words))\n",
        "\n",
        "def shannon_entropy(words):\n",
        "  import math\n",
        "  import numpy as np\n",
        "  import scipy as sc\n",
        "  from collections import Counter\n",
        "\n",
        "  length = len(words)\n",
        "  freqs = Counter(words)\n",
        "  distribution = np.array(list(freqs.values()))\n",
        "  distribution = np.true_divide(distribution, length)\n",
        "    \n",
        "  E = sc.stats.entropy(distribution, base=2)\n",
        "\n",
        "  return E\n",
        "\n",
        "def syllables_count(words, vowels=\"aeiouy\"):\n",
        "  total_count = 0.0\n",
        "\n",
        "  for word in words:\n",
        "    word = word.lower()\n",
        "    count = 0\n",
        "  \n",
        "    if word[0] in vowels:\n",
        "      count += 1\n",
        "  \n",
        "    for i in range(1, len(word)):\n",
        "      if word[i] in vowels and word[i - 1] not in vowels:\n",
        "        count += 1\n",
        "\n",
        "        if word.endswith(\"e\"):\n",
        "          count -= 1\n",
        "    \n",
        "    if count == 0:\n",
        "      count = 1\n",
        "    \n",
        "    total_count += count\n",
        "\n",
        "  return total_count, (total_count // len(words)) # Average\n",
        "\n",
        "def flesch_reading_ease(words, sentences, avg_word_based_sentence_length):\n",
        "  # 206.835 - (1.015 * Average Number of Words Per Sentence) - (84.6 * Average Syllables Count Per Sentence)\n",
        "  _, avg_syllables_count = syllables_count(words)\n",
        "\n",
        "  return 206.835 - (1.015 * avg_word_based_sentence_length) - (84.6 * avg_syllables_count)\n",
        "\n",
        "def mergeLabel(r):\n",
        "  '''\n",
        "  Merge the PolitiFacts's 8 labels to Liar Liar's 6 data label\n",
        "  Change full-flop to pants-fire, and half-flip to barely-true\n",
        "  '''\n",
        "\n",
        "  # v = r['Label']\n",
        "\n",
        "  if (r == 'half-flip'):\n",
        "      r = 'pants-fire'\n",
        "  if (r == 'full-flop'):\n",
        "      r = 'barely-true'\n",
        "  return r\n",
        "\n",
        "\n",
        "def mergeNumberLabel(r):\n",
        "  '''\n",
        "  Convert labels to Integers\n",
        "  '''\n",
        "\n",
        "  # v = r['Label']\n",
        "\n",
        "  if (r == 'true'):\n",
        "      r = 0\n",
        "  if (r == 'mostly-true'):\n",
        "      r = 1\n",
        "  if (r == 'half-true'):\n",
        "      r = 2\n",
        "  if (r == 'barely-true'):\n",
        "      r = 3\n",
        "  if (r == 'false'):\n",
        "      r = 4\n",
        "  if (r == 'pants-fire'):\n",
        "      r = 5\n",
        "  if (r == 'half-flip'):\n",
        "      r = 5\n",
        "  if (r == 'full-flop'):\n",
        "      r = 3\n",
        "  return r \n",
        "\n",
        "\n",
        "def corpursStyleEval(df): \n",
        "  train_final = df.copy()\n",
        "\n",
        "  train_final['clean'] = train_final[\"news\"].apply(cleaning)\n",
        "\n",
        "  train_final['sentences'] = train_final['clean'].apply(get_sentences)\n",
        "  # train_final['n_sentences'] = politifact_df[\"sentences\"].apply(len)\n",
        "  # print(f'number of sentences: {n_sentences}')\n",
        "          \n",
        "  train_final['words'] = train_final['sentences'].apply(get_words)\n",
        "  # train_final['n_words'] = len(train_final['words'])\n",
        "  # print(f'number of words: {n_words}')\n",
        "          \n",
        "  train_final['avg_word_length'] = train_final['words'].apply(get_average_word_length)\n",
        "  # print(f'average word length: {avg_word_length}')\n",
        "          \n",
        "  train_final['avg_word_based_sentence_length'] = train_final['sentences'].apply(get_average_word_based_sentence_length)\n",
        "  # print(f'average word-based sentence length: {avg_word_based_sentence_length}')\n",
        "          \n",
        "  train_final['avg_char_based_sentence_length'] = train_final['sentences'].apply(get_average_chars_based_sentence_length)\n",
        "  # print(f'average char-based sentence length: {avg_char_based_sentence_length}')\n",
        "          \n",
        "  train_final['punc_count'] = train_final['clean'].apply(get_punctuations_count)\n",
        "  # print(f'punctuations count: {punc_count}')\n",
        "\n",
        "  train_final['richness_ratio'] = train_final['words'].apply(vocab_richness_ratio)\n",
        "\n",
        "  train_final['flesch_score']=0\n",
        "  for i in range(train_final.shape[0]):\n",
        "    train_final['flesch_score'][i] = flesch_reading_ease(train_final['words'][i], train_final['sentences'][i], train_final['avg_word_based_sentence_length'][i])\n",
        "    \n",
        "  return train_final[['clean', 'label', 'richness_ratio', 'flesch_score']].copy()"
      ],
      "metadata": {
        "id": "jJXej-bTKlGI"
      },
      "execution_count": null,
      "outputs": []
    },
    {
      "cell_type": "code",
      "source": [
        "def get_final_AbModel(dataframe_final):\n",
        "  final_model= joblib.load(\"/content/abraham_final_2.sav\")\n",
        "  #prediction =  np.argmax(final_model.predict(dataframe_final),axis=1)\n",
        "  logits =  final_model.predict(dataframe_final)\n",
        "  return logits"
      ],
      "metadata": {
        "id": "RtZoCE12J2-Z"
      },
      "execution_count": null,
      "outputs": []
    },
    {
      "cell_type": "code",
      "source": [
        "test_data = pd.read_csv(\"/content/test_data.csv\")\n",
        "\n",
        "import joblib\n",
        "\n",
        "final_dataset = corpursStyleEval(test_data.copy())\n",
        "scalar = joblib.load('/content/abraham_scaler.sav')\n",
        "final_dataset_scaled = scalar.transform(train_final[['richness_ratio', 'flesch_score']])\n",
        "final_dataset_scaled = np.expand_dims(final_dataset_scaled, 1)\n",
        "logits = get_final_AbModel(final_dataset_scaled)"
      ],
      "metadata": {
        "id": "j6S3QMKZJ-OR"
      },
      "execution_count": null,
      "outputs": []
    },
    {
      "cell_type": "code",
      "source": [
        "logits"
      ],
      "metadata": {
        "colab": {
          "base_uri": "https://localhost:8080/"
        },
        "id": "2ME4xsMFNJYl",
        "outputId": "69086882-ad07-4bbe-cfef-30a7d7dba798"
      },
      "execution_count": null,
      "outputs": [
        {
          "output_type": "execute_result",
          "data": {
            "text/plain": [
              "array([[0.16331449, 0.18395911, 0.20639968, 0.16290021, 0.20091157,\n",
              "        0.08251505],\n",
              "       [0.16331387, 0.18396448, 0.20639984, 0.16290432, 0.20092717,\n",
              "        0.08249041],\n",
              "       [0.16331384, 0.18396445, 0.20639981, 0.16290428, 0.20092712,\n",
              "        0.08249045],\n",
              "       ...,\n",
              "       [0.16331446, 0.18396017, 0.20639905, 0.16290112, 0.20091586,\n",
              "        0.08250938],\n",
              "       [0.16331382, 0.18396445, 0.20639981, 0.16290428, 0.20092708,\n",
              "        0.08249049],\n",
              "       [0.16331431, 0.18396258, 0.20639886, 0.16290312, 0.20092331,\n",
              "        0.08249771]], dtype=float32)"
            ]
          },
          "metadata": {},
          "execution_count": 75
        }
      ]
    },
    {
      "cell_type": "code",
      "source": [
        "import matplotlib.pyplot as plt\n",
        "\n",
        "# summarize history for accuracy\n",
        "plt.plot(history.history['accuracy'])\n",
        "plt.plot(history.history['val_accuracy'])\n",
        "plt.title('model accuracy')\n",
        "plt.ylabel('accuracy')\n",
        "plt.xlabel('epoch')\n",
        "plt.legend(['train', 'test'], loc='upper left')\n",
        "plt.show()"
      ],
      "metadata": {
        "id": "hmN_elC741z_",
        "colab": {
          "base_uri": "https://localhost:8080/",
          "height": 295
        },
        "outputId": "bd95cebb-43ca-488c-a5bf-42ad2df6015c"
      },
      "execution_count": null,
      "outputs": [
        {
          "output_type": "display_data",
          "data": {
            "text/plain": [
              "<Figure size 432x288 with 1 Axes>"
            ],
            "image/png": "[encoded data removed]"
          },
          "metadata": {
            "needs_background": "light"
          }
        }
      ]
    }
  ]
}